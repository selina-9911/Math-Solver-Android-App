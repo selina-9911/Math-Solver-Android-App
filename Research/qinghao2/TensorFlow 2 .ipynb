{
 "cells": [
  {
   "cell_type": "markdown",
   "id": "smart-milan",
   "metadata": {},
   "source": [
    "# Get Started in Deep Learing with Keras \n",
    "\n",
    "https://machinelearningmastery.com/tensorflow-tutorial-deep-learning-with-tf-keras/\n",
    "\n",
    "TensorFlow \n",
    "- is a open-source deep learning framework developed by Google.\n",
    "- tf.keras API can be used to Tensorflow project. The focus is on research, flexibility and speed, but hard to use.\n",
    "\n",
    "Keras \n",
    "- is an open-source deep learning library in Python. A standalone open source project. It is clean and simple. It allows flexibility on backend such as TensorFlow etc. \n",
    "\n",
    "tf.keras:\n",
    "- TensorFlow 2 integrated Keras API -> tf.keras interface or API\n",
    "- tf.keras allows design, fit, evaluate, and use deep learning models to make predictions by using classification and regression predictive modeling."
   ]
  },
  {
   "cell_type": "code",
   "execution_count": 1,
   "id": "soviet-plane",
   "metadata": {},
   "outputs": [],
   "source": [
    "import tensorflow as tf"
   ]
  },
  {
   "cell_type": "code",
   "execution_count": 2,
   "id": "returning-camcorder",
   "metadata": {},
   "outputs": [],
   "source": [
    "model = tf.keras.Sequential()"
   ]
  },
  {
   "cell_type": "markdown",
   "id": "absolute-andorra",
   "metadata": {},
   "source": [
    "## Deep Learning Model Life-Cycle\n",
    "\n",
    "1. Define the model\n",
    "* Select the model and choose the architecture or network topology\n",
    "    * defining the layers of the model, configure each layer each a number of nodes and activation function, and connecting the layers together into a cohesive model\n",
    "* API perspective: Models can be defined either with the Sequential API or Functional API\n",
    "    \n",
    "    #define the model\n",
    "    model = ....\n",
    "    \n",
    "    \n",
    "    \n",
    "2. Compile the model\n",
    "* Select a loss function that you want to optimize, such as mean squared error or cross entropy\n",
    "* Select a algorithm to perform the optimization procedure: suchas stochastic gradient descent, or a modern variation, such as Adam. \n",
    "* Select performance metrics to keep track of during the model training process\n",
    "* API perspective: calling a function to compile the model with the chosen configuration, which prepare the data strucutre for the model\n",
    "    * the optimizer can be specificed as a strong for a known optimizer class: \"sgd\" for stochastic gradient descent\n",
    "    \n",
    "* Three most common loss functions are:\n",
    "    binary_crossentropy for binary classification\n",
    "    sparse_categorical_croassentropy for multi-class classification\n",
    "    mse(mean squared error) for regression\n",
    "    \n",
    "    #compile the model\n",
    "    model.compile(optimizer = opt, loss = 'binary_crossentropy', metrics = ['accuracy'])\n",
    "\n",
    "\n",
    "\n",
    "3. Fit the model\n",
    "* Select the training configuration, such as the number of epochs and the batch size. \n",
    "* use the optimization algorithm to minimize the chosen loss function and updates the model using the backpropagation of error algorithm\n",
    "* this can take hours to days, depending on the complexity of the model, hardware and dataset size\n",
    "* API: calling a function to perform the training process.\n",
    "\n",
    "        #fit the model\n",
    "        model.fit(X,y, ephochs = 100, batch_size = 32)\n",
    "        \n",
    "4. Evaluate the model\n",
    "* choose a testing dataset to evaluate the model\n",
    "* API: calling a function with the testing dataset and getting a loss and other metrics that can be reported\n",
    "\n",
    "    #evalute the model\n",
    "    loss = model.evaluate(X,y,verbose = 0)\n",
    "    \n",
    "    \n",
    "    \n",
    "5. Make the prediction\n",
    "* have the new datato get the targeted values\n",
    "* API: calling a function to make a prediction of a class label, probability or numerical value\n",
    "\n",
    "        #make a prediction\n",
    "        yhat = model.predict(X)\n",
    "\n",
    "\n",
    "#### Sequential Model API (Simple)\n",
    "* This is the simplest API to get started. \n",
    "    * sequential: define Sequential class and add layers to the model one by one in a linear manner from input to output"
   ]
  },
  {
   "cell_type": "code",
   "execution_count": 3,
   "id": "gross-impression",
   "metadata": {},
   "outputs": [],
   "source": [
    "#model defined with the sequential api\n",
    "from tensorflow.keras import Sequential\n",
    "from tensorflow.keras.layers import Dense\n",
    "#define the model\n",
    "model = Sequential() #sequential mlp model\n",
    "#add layers\n",
    "model.add(Dense(10,input_shape = (8,))) #eight inputs, one hidden layer with 10 nodes\n",
    "model.add(Dense(1)) #an output layer with one node to predict a numerical value"
   ]
  },
  {
   "cell_type": "markdown",
   "id": "billion-particle",
   "metadata": {},
   "source": [
    "#### Functional Model API (Advanced)\n",
    "* more complex and more flexible\n",
    "* connecting output of one layer to the input of another layer"
   ]
  },
  {
   "cell_type": "code",
   "execution_count": 5,
   "id": "reflected-papua",
   "metadata": {},
   "outputs": [],
   "source": [
    "#first, an input layer must be defined via input and the shape of an input sample is specified\n",
    "#Next, a fully connected layer can be connected to the input by calling the layer and passing the input layer.This will return a reference to the output connection in this new layer.\n",
    "\n",
    "# example of a model defined with the functional api\n",
    "from tensorflow.keras import Model\n",
    "from tensorflow.keras import Input\n",
    "from tensorflow.keras.layers import Dense\n",
    "# define the layers\n",
    "x_in = Input(shape=(8,))\n",
    "x = Dense(10)(x_in)\n",
    "x_out = Dense(1)(x)\n",
    "# define the model\n",
    "model = Model(inputs=x_in, outputs=x_out)"
   ]
  },
  {
   "cell_type": "markdown",
   "id": "wanted-external",
   "metadata": {},
   "source": [
    "## How to Develop Deep Learning Models\n",
    "\n",
    "Standard deep learning models: Multilayer Perceptrons (MLP), Convolutional Neural Networks (CNNs), and Recurrent Neural Networks (RNNs).\n",
    "\n",
    "* 3.1 MLP\n",
    "    * standard fully connected neural network model\n",
    "        * layers of nodes where each node is connected to all outputs from the previous layer and the output of each node is connected to all inputs for nodes in the next layer\n",
    "    * MLP is created by one or more Dense layers. This is appropriate for tabular data(excel).\n",
    "    * Three predictive modeling problems: binary classification, multiclass classification, and regression.\n",
    "    \n",
    "\n",
    "#### MLP for Binary Classification\n",
    "* Encode the string labels to integer values 0 and 1. \n",
    "* fit on 67 percent of the data, and the remaining 33 percent will be used for evaluation, split using the train_test_split() function."
   ]
  },
  {
   "cell_type": "code",
   "execution_count": 2,
   "id": "painful-subdivision",
   "metadata": {},
   "outputs": [
    {
     "name": "stdout",
     "output_type": "stream",
     "text": [
      "Collecting sklearn\n",
      "  Using cached sklearn-0.0-py2.py3-none-any.whl\n",
      "Collecting scikit-learn\n",
      "  Using cached scikit_learn-0.24.1-cp37-cp37m-macosx_10_13_x86_64.whl (7.2 MB)\n",
      "Collecting threadpoolctl>=2.0.0\n",
      "  Using cached threadpoolctl-2.1.0-py3-none-any.whl (12 kB)\n",
      "Requirement already satisfied: numpy>=1.13.3 in /opt/anaconda3/envs/tf/lib/python3.7/site-packages (from scikit-learn->sklearn) (1.19.2)\n",
      "Collecting joblib>=0.11\n",
      "  Using cached joblib-1.0.1-py3-none-any.whl (303 kB)\n",
      "Requirement already satisfied: scipy>=0.19.1 in /opt/anaconda3/envs/tf/lib/python3.7/site-packages (from scikit-learn->sklearn) (1.6.2)\n",
      "Installing collected packages: threadpoolctl, joblib, scikit-learn, sklearn\n",
      "Successfully installed joblib-1.0.1 scikit-learn-0.24.1 sklearn-0.0 threadpoolctl-2.1.0\n"
     ]
    }
   ],
   "source": [
    "! pip install sklearn"
   ]
  },
  {
   "cell_type": "code",
   "execution_count": 5,
   "id": "twelve-pottery",
   "metadata": {},
   "outputs": [],
   "source": [
    "# mlp for binary classification\n",
    "import pandas, sklearn\n",
    "from pandas import read_csv\n",
    "from sklearn.model_selection import train_test_split\n",
    "from sklearn.preprocessing import LabelEncoder\n",
    "from tensorflow.keras import Sequential \n",
    "from tensorflow.keras.layers import Dense"
   ]
  },
  {
   "cell_type": "code",
   "execution_count": 6,
   "id": "humanitarian-springer",
   "metadata": {},
   "outputs": [],
   "source": [
    "# load the dataset\n",
    "path = 'https://raw.githubusercontent.com/jbrownlee/Datasets/master/ionosphere.csv'\n",
    "df = read_csv(path, header=None)"
   ]
  },
  {
   "cell_type": "code",
   "execution_count": 7,
   "id": "ahead-cabinet",
   "metadata": {},
   "outputs": [],
   "source": [
    "# split into input and output columns\n",
    "X, y = df.values[:, :-1], df.values[:, -1]\n",
    "# ensure all data are floating point values\n",
    "X = X.astype('float32')# encode strings to integer\n",
    "y = LabelEncoder().fit_transform(y)\n",
    "# split into train and test datasets\n",
    "X_train, X_test, y_train, y_test = train_test_split(X, y, test_size=0.33)\n",
    "print(X_train.shape, X_test.shape, y_train.shape, y_test.shape)\n",
    "# determine the number of input features\n",
    "n_features = X_train.shape[1]\n",
    "# define model\n",
    "model = Sequential()\n",
    "model.add(Dense(10, activation='relu', kernel_initializer='he_normal', input_shape=(n_features,)))\n",
    "model.add(Dense(8, activation='relu', kernel_initializer='he_normal'))\n",
    "model.add(Dense(1, activation='sigmoid'))\n",
    "# compile the model\n",
    "model.compile(optimizer='adam', loss='binary_crossentropy', metrics=['accuracy'])\n",
    "# fit the model\n",
    "model.fit(X_train, y_train, epochs=150, batch_size=32, verbose=0)\n",
    "# evaluate the model\n",
    "loss, acc = model.evaluate(X_test, y_test, verbose=0)\n",
    "print('Test Accuracy: %.3f' % acc)\n",
    "# make a prediction\n",
    "row = [1,0,0.99539,-0.05889,0.85243,0.02306,0.83398,-0.37708,1,0.03760,0.85243,-0.17755,0.59755,-0.44945,0.60536,-0.38223,0.84356,-0.38542,0.58212,-0.32192,0.56971,-0.29674,0.36946,-0.47357,0.56811,-0.51171,0.41078,-0.46168,0.21266,-0.34090,0.42267,-0.54487,0.18641,-0.45300]\n",
    "yhat = model.predict([row])\n",
    "print('Predicted: %.3f' % yhat)"
   ]
  }
 ],
 "metadata": {
  "kernelspec": {
   "display_name": "Python 3",
   "language": "python",
   "name": "python3"
  },
  "language_info": {
   "codemirror_mode": {
    "name": "ipython",
    "version": 3
   },
   "file_extension": ".py",
   "mimetype": "text/x-python",
   "name": "python",
   "nbconvert_exporter": "python",
   "pygments_lexer": "ipython3",
   "version": "3.7.10"
  }
 },
 "nbformat": 4,
 "nbformat_minor": 5
}
