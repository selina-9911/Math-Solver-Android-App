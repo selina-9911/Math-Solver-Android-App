{
 "cells": [
  {
   "cell_type": "markdown",
   "id": "successful-quest",
   "metadata": {},
   "source": [
    "## TensorFlow Tutorial\n"
   ]
  },
  {
   "cell_type": "markdown",
   "id": "considered-berlin",
   "metadata": {},
   "source": [
    "Get Started in Deep Learing with Keras \n",
    "\n",
    "https://machinelearningmastery.com/tensorflow-tutorial-deep-learning-with-tf-keras/\n",
    "\n",
    "TensorFlow \n",
    "- is a open-source deep learning framework developed by Google.\n",
    "- tf.keras API can be used to Tensorflow project. The focus is on research, flexibility and speed, but hard to use.\n",
    "\n",
    "Keras \n",
    "- is an open-source deep learning library in Python. A standalone open source project. It is clean and simple. It allows flexibility on backend such as TensorFlow etc. \n",
    "\n",
    "tf.keras:\n",
    "- TensorFlow 2 integrated Keras API -> tf.keras interface or API\n",
    "- tf.keras allows design, fit, evaluate, and use deep learning models to make predictions by using classification and regression predictive modeling.\n",
    "\n",
    "import tensorflow as tf\n",
    "\n",
    "#use keras API\n",
    "\n",
    "model = tf.keras.Sequential()"
   ]
  },
  {
   "cell_type": "code",
   "execution_count": 1,
   "id": "pregnant-acting",
   "metadata": {},
   "outputs": [
    {
     "ename": "SyntaxError",
     "evalue": "invalid syntax (<ipython-input-1-f883bbdb1269>, line 1)",
     "output_type": "error",
     "traceback": [
      "\u001b[0;36m  File \u001b[0;32m\"<ipython-input-1-f883bbdb1269>\"\u001b[0;36m, line \u001b[0;32m1\u001b[0m\n\u001b[0;31m    activate tensorflow\u001b[0m\n\u001b[0m             ^\u001b[0m\n\u001b[0;31mSyntaxError\u001b[0m\u001b[0;31m:\u001b[0m invalid syntax\n"
     ]
    }
   ],
   "source": [
    "activate tensorflow"
   ]
  },
  {
   "cell_type": "code",
   "execution_count": 2,
   "id": "tired-incidence",
   "metadata": {},
   "outputs": [
    {
     "ename": "ModuleNotFoundError",
     "evalue": "No module named 'tensorflow'",
     "output_type": "error",
     "traceback": [
      "\u001b[0;31m---------------------------------------------------------------------------\u001b[0m",
      "\u001b[0;31mModuleNotFoundError\u001b[0m                       Traceback (most recent call last)",
      "\u001b[0;32m<ipython-input-2-d6579f534729>\u001b[0m in \u001b[0;36m<module>\u001b[0;34m\u001b[0m\n\u001b[0;32m----> 1\u001b[0;31m \u001b[0;32mimport\u001b[0m \u001b[0mtensorflow\u001b[0m\u001b[0;34m\u001b[0m\u001b[0;34m\u001b[0m\u001b[0m\n\u001b[0m",
      "\u001b[0;31mModuleNotFoundError\u001b[0m: No module named 'tensorflow'"
     ]
    }
   ],
   "source": [
    "import tensorflow"
   ]
  },
  {
   "cell_type": "code",
   "execution_count": null,
   "id": "macro-ballet",
   "metadata": {},
   "outputs": [],
   "source": []
  }
 ],
 "metadata": {
  "kernelspec": {
   "display_name": "Python 3",
   "language": "python",
   "name": "python3"
  },
  "language_info": {
   "codemirror_mode": {
    "name": "ipython",
    "version": 3
   },
   "file_extension": ".py",
   "mimetype": "text/x-python",
   "name": "python",
   "nbconvert_exporter": "python",
   "pygments_lexer": "ipython3",
   "version": "3.9.2"
  }
 },
 "nbformat": 4,
 "nbformat_minor": 5
}
