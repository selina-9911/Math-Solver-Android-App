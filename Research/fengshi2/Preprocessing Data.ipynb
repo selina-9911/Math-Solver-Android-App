{
 "cells": [
  {
   "cell_type": "code",
   "execution_count": null,
   "id": "southwest-california",
   "metadata": {},
   "outputs": [],
   "source": [
    "import pandas in pd\n",
    "import numpy in np"
   ]
  },
  {
   "cell_type": "code",
   "execution_count": null,
   "id": "overall-tractor",
   "metadata": {},
   "outputs": [],
   "source": [
    "# imports in the data using tensorflow\n"
   ]
  }
 ],
 "metadata": {
  "kernelspec": {
   "display_name": "Python 3",
   "language": "python",
   "name": "python3"
  },
  "language_info": {
   "codemirror_mode": {
    "name": "ipython",
    "version": 3
   },
   "file_extension": ".py",
   "mimetype": "text/x-python",
   "name": "python",
   "nbconvert_exporter": "python",
   "pygments_lexer": "ipython3",
   "version": "3.9.2"
  }
 },
 "nbformat": 4,
 "nbformat_minor": 5
}
